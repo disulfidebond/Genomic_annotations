{
 "cells": [
  {
   "cell_type": "markdown",
   "metadata": {},
   "source": [
    "1. Parse out all macaca mulatta entries"
   ]
  },
  {
   "cell_type": "code",
   "execution_count": 1,
   "metadata": {},
   "outputs": [],
   "source": [
    "!grep -B16 'Macaca mulatta' MHC.dat.txt > macaca_mulatta_listOfIDs.mhc.txt"
   ]
  },
  {
   "cell_type": "code",
   "execution_count": 2,
   "metadata": {},
   "outputs": [],
   "source": [
    "!grep 'ID   ' macaca_mulatta_listOfIDs.mhc.txt | sed 's/ID[[:space:]]*//g' > macaca_mulatta_listOfIDs.parsed.mhc.txt"
   ]
  },
  {
   "cell_type": "code",
   "execution_count": 17,
   "metadata": {},
   "outputs": [],
   "source": [
    "import time\n",
    "def importEntries(f):\n",
    "    pList = []\n",
    "    with open(f) as fOpen:\n",
    "        currentItem = []\n",
    "        for i in fOpen:\n",
    "            i = i.rstrip('\\r\\n')\n",
    "            if i[0:3] == '//':\n",
    "                pList.append(currentItem)\n",
    "                currentItem = []\n",
    "            else:\n",
    "                currentItem.append(i)\n",
    "    return pList\n",
    "\n",
    "def parseOutSelectedEntries(l, itmList):\n",
    "    rList = []\n",
    "    for itm in l:\n",
    "        checkItem = itm[0]\n",
    "        splitItem = checkItem.split(' ')\n",
    "        if len(splitItem) == 1:\n",
    "            splitItem = checkItem.split('\\t') # try tab instead of whitespace\n",
    "        checkItemFilteredList = list(filter(lambda x: x != '', splitItem))\n",
    "        if checkItemFilteredList[1] in itmList:\n",
    "            rList.append(itm)\n",
    "    return rList\n",
    "\n",
    "idList = []\n",
    "with open('macaca_mulatta_listOfIDs.parsed.mhc.txt') as f:\n",
    "    for i in f:\n",
    "        i = i.rstrip('\\n\\r')\n",
    "        idList.append(i)\n",
    "importedList = importEntries('MHC.dat.txt')\n",
    "parsedAndImportedList = parseOutSelectedEntries(importedList, idList)\n",
    "parsedFileName = 'macaca_mulatta.parsed.mhc.txt'\n",
    "for itm in parsedAndImportedList:\n",
    "    o = '\\n'.join(itm)\n",
    "    o += '\\n//\\n'\n",
    "    # print(o)\n",
    "    with open(parsedFileName, 'a') as fWrite:\n",
    "        fWrite.write(o)"
   ]
  },
  {
   "cell_type": "markdown",
   "metadata": {},
   "source": [
    "2. import data from parsed text file"
   ]
  },
  {
   "cell_type": "code",
   "execution_count": 29,
   "metadata": {},
   "outputs": [
    {
     "name": "stdout",
     "output_type": "stream",
     "text": [
      "[['Mamu-AG*01:01', 'NHP00355', [1, 1073], [('exon1', [1, 49]), ('exon2', [50, 319]), ('exon3', [320, 595]), ('exon4', [596, 871]), ('exon5', [872, 988]), ('exon6', [989, 1021]), ('exon7', [1022, 1068]), ('exon8', [1069, 1073])], 'CTCCTCCTAGTGCTCTCAGGGGTCCTGGCCCCGACCCAGACCCGGGCGGGCTCCCACTCCATGAGGTATTTCTACACCTCCGTGTCCCGGCCCGGCCGCTGGGAGCCCCGCTTCATCGCCGTGGGCTACGTGGACGACACGCAGTTCGTGCGGTTCGACAGCGACGCCGAGAGTCCGAGGATGGAGCCGCGGGCGCCGTGGGTGGAGCAGGAGGGGCCGGAGTATTGGGACCGGGAGACACAGAACATGAAGACCCCGACACAGACCTACCGAGTGAACCTGCGGACCCTGCTCCGCTACTACAACCAGAGCGAGGCCGGGTCTCACACCATCCAGAAGATGTACGGCTGCGACCTGGGGCCCGACGGGCGCCTCCTCCGCGGGTATGAACAGTTCGCCTACGACGGCAGGGATTACATCATCCTGAACGAGGACCTGCGCTCCTGGACTGCCGCGGACATGGCGGCTCAGAACACCCAGCGCAAGTGGGAGGCGGCGGGTGCGGCGGAGCAGCACAGAACCTACCTGGAGGGCGAGTGCCTGGAGTGGCTCCGCAGATACCTGGAGAACGGGAAGGAGACGCTGCAGCGCGCGGACCCCCCCAAGACACATGTGACCCACCACCCCGTCTCTGACTACGAGGCCACCCTGAGGTGCTGGGCCCTGGGCTTCTACCCTGCGGAGATCACACTGACCTGGCAGCGGGATGGAGAGGAACAAACTCAGGACACAGAGCTCATGGAGACCAGGCCTACAGGGAATGGAACCTTCCAGAAGTGGGCGGCTGTGGTGGTGCCTTCTGGAGAGGAGCAGAGATACACCTGTCATGTGCAACATGAGGGTCTGCCCAAGCCCCTCACCTTGAGATGGGAGTTGTCTTCCCAGCCCACCATCCCCATCGTGGGCATCATTGCTGGCCTGGTTCTGCTTGGAACTGTGGTCACTGGAGCTGTGGTTGCTGCTGTGATGTGGAGGAGGAAGAGCTCAGATAGATAAGGCGGGAGCTACTCTCAGGCTGCAAGCAGTGACAGTGCCCAGGGCTCTGATGTGTCTCTCACGGCTTTAAAGTGTGA'], ['Mamu-AG*02:01:01', 'NHP00356', [1, 1074], [('exon1', [1, 49]), ('exon2', [50, 319]), ('exon3', [320, 595]), ('exon4', [596, 871]), ('exon5', [872, 988]), ('exon6', [989, 1021]), ('exon7', [1022, 1069]), ('exon8', [1070, 1074])], 'CTCCTCCTGGTGCTCTCAGGGGTCCTGGCCCTGACCCAGACCCGGGCGGGCTCGCACTCCATGAGGTATTTCTACACCTCCATGTCCCGGCCCGGCCGCGGGCAGCCCCGCTTCATCGCCGTGGGCTACGTGGACGACACGCAGTTCGTGCGGTTCGACAGCGACGCCGAGAGTCCGAGGATGGAGCCGCGGGCGCCGTGGGTGGAGCAGGAGGGGCCGGAGTATTGGGACCGGGAGACACAGAACATGAAGACCGCGACACAGACCTACCGAGAGAACCTGCGGACCCTGCTCCGCTACTACAACCAGAGCGAGGCCGGGTCTCACACCATCCAGAAGATGTACGGCTGCGACCTGGGGCCAGACGGGCGCCTCCTCCGCGGGTATGAACAGTTCGCCTACGACGGCAGGGATTACATCGCCCTGAACGAGGACCTGCGCTCCTGGACGGCCGCGGACATGGCGGCTCAGAACACCCAGCGCAAGTGGGAGGCGGCGGGTGCGGCGGAGCAGCACAGAACCTACCTGGAGGGCGAGTGCCTGGAGTGGCTCCGCAGATACCTGGAGAACGGGAAGGAGACGCTGCAGCGCGCGGACCCCCCCAAGACAAATGTGACCCACCACCCTGTCTCTGACTACGAGGCCACCCTGAGGTGTTGGGCCCTGGGCTTCTACCCTGCGGAGATCACACTGACCTGGCAGCGGGATGGAGAGGAACAAACTGAAGACACAGAGCTCGTGGAGACCAGGCCTACAGGGGATGGAACCTTCCAGAAGTGGGCGGCTGTGGTGGTGCCTTCTGGAGAGGAGCAGAGATACACCTGTCATGTGCAACATGAGGGTCTGCCCGAGCCCCTCACCTTGAGATGGGAGCCATCTTCCCAGTCTACCATCCTCATCGTAGGCATCATTGCTGGCCTGGTTCTCCTTGGAACTGTGGTCACTGGAGCTGTGGTTGCTGCTGTGATGTGGAGGAGGAAGAGCTCAGATAGATAAGGCGGGAGCTACTCTCAGGCTGCAAGCAGTGACAGTTCCCAAGGTTCTGATGTGTCTCTCACGGCTTGTAAAGTGTGA'], ['Mamu-AG*02:01:02', 'NHP00357', [1, 1071], [('exon1', [1, 46]), ('exon2', [47, 316]), ('exon3', [317, 592]), ('exon4', [593, 868]), ('exon5', [869, 985]), ('exon6', [986, 1018]), ('exon7', [1019, 1066]), ('exon8', [1067, 1071])], 'CTCCTGGTGCTCTCAGGGGTACTGGCCCTGACCCAGACCCGGGCGGGCTCGCACTCCATGAGGTATTTCTACACCTCCATGTCCCGGCCCGGCCGCGGGCAGCCCCGCTTCATCGCCGTGGGCTACGTGGACGACACGCAGTTCGTGCGGTTCGACAGCGACGCCGAGAGTCCGAGGATGGAGCCGCGGGCGCCGTGGGTGGAGCAGGAGGGTCCAGAGTATTGGGACCGGGAGACACAGAACATGAAGACCGCGACACAGACCTACCGAGAGAACCTGCGGACCCTGCTCCGCTACTACAACCAGAGCGAGGCCGGGTCTCACACCATCCAGAAGATGTACGGCTGCGACCTGGGGCCCGACGGGCGCCTCCTCCGCGGGTATGAACAGTTCGCCTACGACGGCAGGGATTACATCGCCCTGAACGAGGACCTGCGCTCCTGGACGGCCGCGGACATGGCGGCTCAGAACACCCAGCGCAAGTGGGAGGCGGCGGGTGCGGCGGAGCAGCACAGAACCTACCTGGAGGGCGAGTGCCTGGAGTGGCTCCGCAGATACCTGGAGAACGGGAAGGAGACGCTGCAGCGCGCGGACCCCCCCAAGACAAATGTGACCCACCACCCTGTCTCTGACTACGAGGCCACCCTGAGGTGCTGGGCCCTGGGCTTCTACCCTGCGGAGATCACACTGACCTGGCAGCGGGATGGAGAGGAACAAACTGAGGACACAGAGCTCGTGGAGACCAGGCCTACAGGGGATGGAACCTTCCAGAAGTGGGCGGCTGTGGTGGTGCCTTCTGGAGAGGAGCAGAGATACACCTGTCATGTGCAACATGAGGGTCTGCCCGAGCCCCTCACCTTGAGATGGGAGCCATCTTCCCAGTCTACCATCCTCATCGTAGGCATCATTGCTGGCCTGGTTCTCCTTGGAACTGTGGTCACTGGAGCTGTGGTTGCTGCTGTGATGTGGAGGAGGAAGAGCTCAGATAGATAAGGCGGGAGCTACTCTCAGGCTGCAAGCAGTGACAGTTCCCAAGGTTCTGATGTGTCTCTCACGGCTTGTAAAGTGTGA']]\n"
     ]
    }
   ],
   "source": [
    "def parsedAndCastRange(xList):\n",
    "    # requires: string in the format '1..5', returns [1,5] as list of ints\n",
    "    unparsedRangeAsList = xList.split('.')\n",
    "    parsedRange = list(filter(lambda x: x!= '', unparsedRangeAsList))\n",
    "    return [int(parsedRange[0]), int(parsedRange[1])]\n",
    "\n",
    "def parsedExonOutput(s):\n",
    "    retList = []\n",
    "    for i in s:\n",
    "        listOfValues = i\n",
    "        exonSeq = i[-1]\n",
    "        exon_ct = []\n",
    "        exon_ct_list = []\n",
    "        mxLen = len(listOfValues[3])\n",
    "        for j in listOfValues[3]:\n",
    "            exon_ct.append(j[0])\n",
    "            exon_ct_list.append((j[1][0], j[1][1]))\n",
    "        # indexTransition = 0\n",
    "        indexTransition = 0\n",
    "        checkForIntron = 0\n",
    "        for x in range(0, mxLen, 1):\n",
    "            exonStartAndStop = exon_ct_list[x]\n",
    "            exonStart = exonStartAndStop[0]\n",
    "            if x == 0:\n",
    "                exonStart = exonStartAndStop[0] - 1\n",
    "            exonStop = exonStartAndStop[1] + 1\n",
    "            exonSequence = exonSeq[exonStart:exonStop]\n",
    "            indexTransition = exonStartAndStop[1]+1\n",
    "            r = str(listOfValues[0]) + ':' + str(exon_ct[x]) + ',' + exonSequence\n",
    "            retList.append(r)\n",
    "    return retList\n",
    "\n",
    "alleleList = []\n",
    "with open(parsedFileName, 'r') as f:\n",
    "    s_id = ''\n",
    "    s_alleleID = ''\n",
    "    s_exonList = []\n",
    "    alleleExonRange = []\n",
    "    alleleExonSeq = []\n",
    "    exonSeqs = ''\n",
    "    exonCt = 1\n",
    "    seqFlag = False\n",
    "    for i in f:\n",
    "        i = i.rstrip('\\r\\n')\n",
    "        sLine = i.split(' ')\n",
    "        sLineList = list(filter(lambda x: x != '', sLine))\n",
    "        if sLineList[0] == 'KW':\n",
    "            s_id = sLineList[1]\n",
    "        elif sLineList[0] == 'ID':\n",
    "            s_alleleID = sLineList[1]\n",
    "        elif sLineList[0] == 'FT':\n",
    "            if sLineList[1] == 'allele':\n",
    "                alleleExonRange = parsedAndCastRange(sLineList[2])\n",
    "            elif sLineList[1] == 'exon':\n",
    "                exonSeqRange = parsedAndCastRange(sLineList[2])\n",
    "                exonN = 'exon' + str(exonCt)\n",
    "                alleleExonSeq.append((exonN, exonSeqRange))\n",
    "                exonCt += 1\n",
    "            else:\n",
    "                continue\n",
    "        elif sLineList[0] == 'SQ':\n",
    "            seqFlag = True\n",
    "            continue\n",
    "        else:\n",
    "            if seqFlag:\n",
    "                if sLineList[0] == '//':\n",
    "                    '''modify this as necessary.  It is unknown why python string indices\n",
    "                    are completely wacky--possibly something Bash does?\n",
    "                    be advised you may need to change the range from 0:3 \n",
    "                    or change the string range in the parsing above to 0:2'''\n",
    "                    seqFlag = False\n",
    "                    alleleList.append([s_id, s_alleleID, alleleExonRange, alleleExonSeq, exonSeqs])\n",
    "                    alleleExonSeq = []\n",
    "                    exonCt = 1\n",
    "                    exonSeqs = ''\n",
    "                    continue\n",
    "                else:\n",
    "                    s = ''.join(sLineList[:-1])\n",
    "                    exonSeqs += s\n",
    "            else:\n",
    "                continue\n"
   ]
  },
  {
   "cell_type": "markdown",
   "metadata": {},
   "source": [
    "3. convert data structure to conform to expected format of\n",
    "\n",
    "          [\n",
    "            ('Allele1Name', ['exon1-string', 'exon2-string',...,'exonN-string']),\n",
    "            ('Allele2Name', ['exon1-string', 'exon2-string',...,'exonN-string']),\n",
    "            ('Allele3Name', ['exon1-string', 'exon2-string',...,'exonN-string'])\n",
    "          ]\n",
    "\n"
   ]
  },
  {
   "cell_type": "code",
   "execution_count": 54,
   "metadata": {},
   "outputs": [
    {
     "name": "stdout",
     "output_type": "stream",
     "text": [
      "[('Mamu-I*01:06:23', ['ATGCGGGTTATGGCGCCCGGAACCCTCCTCCTGCTGCTCTCGGGGGCCCTGGCCCTGACCGAGACCTGGGCCG', 'GCTCGCACTCCTTGAGGTATTTCGGCACCACAGTGTCCCGGCCCGGCCGCGGGGAGCCCCGCTTCATCGCCGTGGGCTACGTGGACGACACGCAGTTCGTGCGGTTCGACAGCGACGCCGAGAGTCCGAGGATGGAGCCGCGGGCGCCGTGGATGGAGCAGGAGGGGCCGGAGTATTGGGAAGAGGAGACACGGATCGCCAAGGCCCGCGCACAGACTGAGCGAGGGAACCTGCGGACCGCGCTCCGCTACTACAACCAGAGCGAGGGGG', 'GGTCTCACACCCTCCAGAAGATGTGTGGCTGCGACCTGGGGCCGGACGGGCGCCTCCTCCGCGGGTATTACCAGTCCGCCTACGACGGCAGGGATTACATCGCCCTGAATGAGGACCTGCGCTCCTGGACCGCTGCGGGTGAGGCGGCTCAGAACACCCAGCGCAAGTGGGAGGCGGCCGGTGAAGCAGAGCAGCGGAGAGCCTACCTGGAGGGCCGGTGCGTGGAGTGGCTCCGCAGATACCTGGAGAAGGGGAAGGAGACGCTGCAGCGCGCGG', 'ATCCCCCAAAGACACACGTGACCCACCACCCCGTCTCTGACCATGAGGCCACCCTGAGGTGCTGGGCCCTGGGCTTCTACCCTGCGGAGATCACACTGACCTGGCAGCGGGATGGGGAGGAGCAAACTCAGGACACCGAGCTTGTGGAGACCAGGCCAGGAGGAGATGGAAACTTCCAGAAGTGGGCAGCTGTGGTGGTGCCTTCTGGAGAAGAGCAGAGATACACGTGCCATGTGCAGCATGAGGGGCTGCCGGAGCCCCTCACCCTGAGATGGG', 'AGCCATCTTCCCAGTCCACCATCCCCATCATGGGCATTGTTGCTGGCCTGGCTGTCCTAGCAGTTGTGGTCACCGGAGCTGTGGTCGCAGCTGTGATGTGGAGGAGGAAGAGCTCAG', 'GTGGAAAAGGAGGGAGCTACTCTCAGGCTGCGT', 'CCAGCAACAGTGCCCAGGGCTCTGATGTGTCTCTCACAGCTTGA']), ('Mamu-B*038:01:02', ['ATGCAGGTCATGGCGCCCCGAACCCTCCTCCTGCTGCTCTCGGGGGCCCTGGCCCTGACCGAGACCTGGGCCG', 'GCTCCCACTCCTTGAGGTATTTCCACACCGCCGTGTCCCGGCCCGGCCTCCGGGAGCCCTGGTATGTCGAAGTCGGCTACGTGGATGACACGCAGTTCGTGCGGTTCGACAGCGACGCCGAGAGTCCGAGGATGGAGCCGCGGGCGCCGTGGATGGAGCAGGAGGGGCCGGAGTATTGGGACCGGAACACACGGAGAGCCAAGGCCAACGCACAGACTGACCGAGGGAACCTGCGGACCGCGCTCCGCTACTACAACCAGAGCGAGGGGG', 'GGTCTCACACCATCCAGTGGATGTACGGCTGCGACCTGGGGCCCGACGGGCGCCTCCTCCGCGGGTATTACCAGGACGCCTACGACGGTAAGGATTATATCACCCTGAACGAGGACCTGCGCTCTTGGACCGCGGCAGACATGGCGGCTCGGTTCACCCAGCGCAAGTGGGAGGCGGCCCGTGCGGCGGAGCAGCTGAGAGCCTACCTGGAGGGGACGTGCGTGGAGTGGCTCCGCAGATACCTGGAGAATGGGAAGGAGACGCTGCAGCGCGCGG', 'ATCCCCCAAAGACACACGTGACCCACCACCCCGTCTCTGACCATGAGGCCACCCTGAGGTGCTGGGCCCTGGGCTTCTACCCTGCGGAGATCACACTGACCTGGCAGCAGGATGGGGAGGAACAAACTCAGGACACACAGCTTGTGGAGACCAGGCCAGTAGGAGATGGAACCTTCCAAAAGTGGGCAGCTGTGGTGGTGCCTTCTGGAGAAGAGCAGAGATACACGTGCCATGTGCAGCACGAGGGATTGCGGGAGCCCCTCACCCTAAGATGGG', 'AGCCATCTTCCCAGTCTACCATCCCCATGGTCGGCATCGTTGCTGGCCTGGCTGTCCTAGCAGTTGTGTTCGCCGGAGCTGTGGTCGCAGCTGTGATGTGGGGGAGGAAGAACTCAG', 'GTGGAAAAGGAGGGAGCTACTTTCAGGCTGCGT', 'CCAAGGACAATGCCCAGGGCTCTGATGAGTCTCTCATGGCTTGA'])]\n"
     ]
    }
   ],
   "source": [
    "def reformatListOfTuples(l):\n",
    "    # requires SINGLE list from list of lists\n",
    "    retList = []\n",
    "    for i in l[3]:\n",
    "        cdsStart = int(i[1][0])-1\n",
    "        cdsStop = int(i[1][1])\n",
    "        cdsString = l[-1]\n",
    "        cds = cdsString[cdsStart:cdsStop]\n",
    "        retList.append(cds)\n",
    "    return (l[0], retList)\n",
    "\n",
    "convertedDataStructure = []\n",
    "for i in alleleList:\n",
    "    convertedDataStructure.append(reformatListOfTuples(i))       "
   ]
  },
  {
   "cell_type": "markdown",
   "metadata": {},
   "source": [
    "4. import data from Excel spreadsheet as [(AlleleID1, allele1-sequence),(AlleleID2, allele2-sequence),...]"
   ]
  },
  {
   "cell_type": "code",
   "execution_count": 126,
   "metadata": {},
   "outputs": [
    {
     "data": {
      "text/plain": [
       "'GATGGCGATCATGGCGCCCCGAACCCTCCTCCTGGTGCTCTCAGGGGCCCTGGTCCTGACCCAGACCCGGGCGGGTGAGTGCGGGGTCGGGAGGGAAATGGCCTCTGCGGGGAGCAGCGAGGGGCCCGCCCGGCGGGGGCGCAGGACCCGGGGAGCCGCGCGGGGAGGAGGGTCGGGCGGGTCTCAGCCTCTCCTCGCCCCCAGGCTCTCACTCCATGAAGTATTTCTACACCTCCATGTCCCGGCCCGGCCGCGGGCAGCCCCGCTTCATCGCCGTGGGCTACGTGGACGACACGCAGTTCGTGCGGTTCGACAGCGACGCCGCGAGCCAAAGGATGGAGCCGCGGGCGCCGTGGGTGGAGCAGGAGGGTCCGGAGTATTGGGACCGGGAGACACGGAACATGAAGACCGAGACACAGAATGCCCCAGTGAACCTGCGGACCCTGCTCCGCTACTACAACCAGAGCGAGGCCGGTGAGTGACCCCGGCCCGGGGCGCAGGTCACGACCCCTCCGCATCCCCCACGGACGGCCCGCGTCGCCCCGAGTCTCCGGGTCCCAGATCCAACCCGAAGCCTCGGGACCCGGGGACCCTTGACCCGGGAGAGCCCCAGGCGCCTTTACCCGGTTTCATTTTCAGTTGAGGCCAAAATCCCCGCGGGTTGGTCGGGGCGGGGCGAGGCTTGGTGGGCGGGGCTGACCGCGGGGGCGGGGCCAGGGTCTCACACCCTCCAGAGGATGGTTGGCTGCGACCTGGGGCCCGACGGGCGCCTCCTCCGCGGGTATGAACAGTACGCCTACGACGGCAAGGATTACATCGCCCTGAACGAGGACCTGCGCTCCTGGACCGCGGCGGACGTGGCGGCTCAGAACACCCAGCGCAAGTGGGAGGCGGCGGATGTGGCGGAGAGCATGAGAGCCTACCTGGAGGGCCAGTGCGTGGAGTGGCTCCCCAGATACCTGGAGAAGGGGAAGGAGACGCTGCAGCGCACGGGTACCAGGGGCCACAGGGCGCCTCCCTGATCTCCTGTGGATCTCCCGGGCTGGCCTCCCACAAAGAGGGGAGACAAATGGGACCAACACTAGAATATCGCCCTCCCTCTGTTCCTGAGGGAGAGGAATCCTCCTGGGTTTCCAGATCCTGTACCAGAGAGTGACTCTGAGGTTCCGCCCTGCTCTCTGACACAATTAAGGATAAAATCTCTGAGGGAATGAAGGAAAGACGATCCCTCGAATACTGATCAGGGGTTCCCTTTGACACCGGCAGCAGCCTTGGGCCCCGTGACTTTTCCTCTCAGGCCCTGTTCTCTGCTTCACACTCAATGTGTGTGGGGGTCTGAGTCCAGCTCCTCTGAGTCCCTCAGCCTCCACTCAGGTCAGGACCAGAAGTCACTATTCCCTCCTCAGGGAATAGAATTTTCCACGGAATAGGAGATTCTCCCAGGTGCCTGTGTCCAGGATAGTGTCTGGGTTCTGTGCTCCCTTCCCCACCCCAGGTGTCCTGTCCATTCTCAACATGGTCACATGCGTGCTGGTGGACTGTCCCATGACAGATACAAAATGCCTGAATTTTCTGACTCTTCCCATCAGACCCCCCCAAGACACATGTGACCCACCACCCCGTCTCTGACCATGAGGCCACCCTGAGGTGCTGGGCCCTGGGCTTCTACCCTGCGGAGATCACACTGACCTGGCAGCGGGATGGGGAGGACCAAACTCAGGACACGGAGCTCGTGGAGACCAGGCCTGCAGGAGATGGAACCTTCCAGAAGTGGGCGGCTGTGGTGGTGCCTTCTGGAGAGGAGCAGAGATACACCTGTCATGTGCAGCATGAGGGTCTGCCCAAGCCCCACACCCTGAAATGGGGTAAAGAGGGAGATGGGGGTGTCATGTCTCTTAGGGAAAGCTGGAGCCTTTCTAGAGACCTTTAGCAGGGTCAGGACCCCTCACCTTCCCCTCTTTTCCCAGAGCCGTTTTCCCAGTCCACCATCCCCATGGTGGGCATCATTGCTGGCCTGGTTCTCCTTGGAGCTGTGGTCACTGGAGCTGTGGTTGCTGCTGTGATGTGGAGGAGGAAGAGCTCAGGTGAGGAAGGGGTGAGGAGTGGAGTCTGAGATTTCTTGTCTCACTGAGGGTTTCAAGCCTCAGGTAGAAGTGTGCCCTGCCTGGTTACTGGGAAGCACCATCCACACTCATGGGCCAACCCAGCCTGGGCCCTGTGTGCCAGCACCTACTCTTTTGTAAAGCACCTGTTACAATGAAGGACAGATAGATCACCTCGATTACGGTGGTGATGGGACCTGATCCCAGCAGTCACAAGTCACAAGAGAAGGTCCCTGGTGAGGACAGACCTCAGGAGGGCAGTTGGTCCAGGATCCACACCTGCTTTCTTCATGTTTCCTGATCCCGCCCTGGGTCTGCAGTCACACATTTCTGGAAACTTCTCTGGGATCCAAGACTAGGAGATTCCTATAGGACCTTATGGCCCTGGTTCCTTTCTGATATCTCACAGGACATTTTCTTCCCACAGATAGAAAAGGAGGGAGCTACTCTCAGGCTGCAAGTAAGTATGAAGAAGGCTGATCCCGGAGATCCTTGGGATGTTGTGGTTGGGAGCCCATGGGGGAGCTCACTAACCCCACAGTTCCTCCTCTAGTCACATCTCCAGAGGGATCTGACCAGGTCCTGTTTTTGTTCTACTCCAGGCAGTGACAGTGCCCAGGGCTCTGATGTGTCTCTCACGGCTTGTAAAGGTGAGACCCTGGGGGGCCTGATGTGTGTGGGGTGTTGGGGGAACAGTGGACGCAGCTGTGCTATGGGGTTTCTTTGACTTGGATGTATTGAGCATGTGATGGGCTGTTTAAAGTGTCACTCCTGACTGTGACGGATGTGAATTTTTTCATGAATATGTTTTCTATAGTGTGAGACAGCTAA'"
      ]
     },
     "execution_count": 126,
     "metadata": {},
     "output_type": "execute_result"
    }
   ],
   "source": [
    "def parseOutFromExcelTSV(f, l):\n",
    "    retList = []\n",
    "    stopAt = len(l)\n",
    "    removeHeader = True\n",
    "    with open(f, 'r') as fOpen:\n",
    "        for i in fOpen:\n",
    "            if removeHeader:\n",
    "                removeHeader = False\n",
    "                continue\n",
    "            i = i.rstrip('\\r\\n')\n",
    "            iSplit = i.split('\\t')\n",
    "            t = tuple([iSplit[x] for x in l])\n",
    "            retList.append(t)\n",
    "    return retList\n",
    "\n",
    "allele_Excel_list = parseOutFromExcelTSV('22695_IPD_Sequences_based on_PacBio-SPADES_concordance.tsv', [3,9])"
   ]
  },
  {
   "cell_type": "markdown",
   "metadata": {},
   "source": [
    "5. Map both sets of sequences"
   ]
  },
  {
   "cell_type": "code",
   "execution_count": 32,
   "metadata": {},
   "outputs": [
    {
     "name": "stdout",
     "output_type": "stream",
     "text": [
      "123\n",
      "456\n"
     ]
    }
   ],
   "source": [
    "def exonPosMatching(startPosStart, seq, exonString):\n",
    "    startPos = seq.find(exonString)\n",
    "    if startPos < startPosStart:\n",
    "        return (startPos, -1)\n",
    "    elif startPos > -1:\n",
    "        endPos = startPos + len(exonString)\n",
    "        return (startPos, endPos)\n",
    "    else:\n",
    "        return (-1, -1)\n",
    "\n",
    "def matchExonsToString(alleleString, alleleName, alleleExonTuple, alleleRgx):\n",
    "    res_pos = []\n",
    "    _start_pos = 0\n",
    "    filter_res = list(filter(lambda x: x[0] == alleleName, alleleExonTuple))\n",
    "    if filter_res:\n",
    "        _filter_res = filter_res[0][1][:-1]\n",
    "        filter_res_lastExon = filter_res[0][1][-1]\n",
    "        for i in _filter_res[0][1]:\n",
    "            matched = exonPosMatching(_start_pos, alleleString, i)\n",
    "            _start_pos = matched[0]\n",
    "            res_pos.append(matched)\n",
    "    else:\n",
    "        string_scan = alleleName.split(alleleRgx)\n",
    "        stopCt = len(string_scan) # + 1\n",
    "        for i in range(1, stopCt):\n",
    "            res = alleleRgx.join(string_scan[:-i])\n",
    "            filter_res = list(filter(lambda x: x[0] == res, alleleExonTuple))\n",
    "            if filter_res:\n",
    "                _filter_res = filter_res[0][1][:-1]\n",
    "                filter_res_lastExon = filter_res[0][1][-1]\n",
    "                for x in _filter_res:\n",
    "                    matched = exonPosMatching(_start_pos, s_seq, x)\n",
    "                    _start_pos = matched[0]\n",
    "                    res_pos.append(matched)\n",
    "                break # will stop after first match\n",
    "    if not res_pos:\n",
    "        return None\n",
    "    end_pos = _start_pos + len(filter_res[0][1][-2])\n",
    "    lastExonPosSearch = s_seq[end_pos:]\n",
    "    matched = exonPosMatching(0, lastExonPosSearch, filter_res_lastExon)\n",
    "    if matched[1] > -1:\n",
    "        matched1 = matched[0] + end_pos\n",
    "        matched2 = matched[1] + end_pos\n",
    "        matched = (matched1, matched2)\n",
    "    res_pos.append(matched)\n",
    "    checkPos = list(filter(lambda x: x[1] == -1, res_pos))\n",
    "    if len(checkPos) > 1:\n",
    "        return (0, alleleName, filter_res[0][0], [alleleString, filter_res[0][1], res_pos])\n",
    "    else:\n",
    "        return (1, alleleName, filter_res[0][0], [alleleString, filter_res[0][1], res_pos])\n",
    "\n",
    "\n"
   ]
  },
  {
   "cell_type": "code",
   "execution_count": 25,
   "metadata": {},
   "outputs": [
    {
     "ename": "IndentationError",
     "evalue": "unindent does not match any outer indentation level (<tokenize>, line 5)",
     "output_type": "error",
     "traceback": [
      "\u001b[0;36m  File \u001b[0;32m\"<tokenize>\"\u001b[0;36m, line \u001b[0;32m5\u001b[0m\n\u001b[0;31m    else:\u001b[0m\n\u001b[0m    ^\u001b[0m\n\u001b[0;31mIndentationError\u001b[0m\u001b[0;31m:\u001b[0m unindent does not match any outer indentation level\n"
     ]
    }
   ],
   "source": [
    "if args.outputType == 'exonList':\n",
    "                  res = parsedExonOutput(alleleList)\n",
    "                  for i in res:\n",
    "                      print(i)\n",
    "              else:\n",
    "                  if args.outputType == 'mergedFastaList':\n",
    "                      for i in alleleList:\n",
    "                          hString = '>' + str(i[0]) + ' ' + str(i[1])\n",
    "                          seqString = str(i[-1])\n",
    "                          print(hString + '\\n' + seqString)\n",
    "                  else:\n",
    "                      res = parsedExonOutput(alleleList)\n",
    "                      for i in res:\n",
    "                          iSplit = i.split(',')\n",
    "                          hString = '>' + str(iSplit[0])\n",
    "                          seqString = str(iSplit[1])\n",
    "                          print(hString + '\\n' + seqString)"
   ]
  },
  {
   "cell_type": "code",
   "execution_count": null,
   "metadata": {},
   "outputs": [],
   "source": []
  }
 ],
 "metadata": {
  "kernelspec": {
   "display_name": "Python 3",
   "language": "python",
   "name": "python3"
  },
  "language_info": {
   "codemirror_mode": {
    "name": "ipython",
    "version": 3
   },
   "file_extension": ".py",
   "mimetype": "text/x-python",
   "name": "python",
   "nbconvert_exporter": "python",
   "pygments_lexer": "ipython3",
   "version": "3.7.3"
  }
 },
 "nbformat": 4,
 "nbformat_minor": 2
}
